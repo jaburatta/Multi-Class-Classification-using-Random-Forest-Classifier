{
 "cells": [
  {
   "cell_type": "code",
   "execution_count": 1,
   "id": "43c99c43",
   "metadata": {},
   "outputs": [],
   "source": [
    "import warnings\n",
    "warnings.filterwarnings(\"ignore\")\n",
    "\n",
    "import pandas as pd\n",
    "import numpy as np\n",
    "\n",
    "import matplotlib.pyplot as plt\n",
    "import seaborn as sns\n",
    "\n",
    "pd.set_option('display.max_columns', None)"
   ]
  },
  {
   "cell_type": "code",
   "execution_count": 2,
   "id": "f5fd89ba",
   "metadata": {},
   "outputs": [
    {
     "data": {
      "text/html": [
       "<div>\n",
       "<style scoped>\n",
       "    .dataframe tbody tr th:only-of-type {\n",
       "        vertical-align: middle;\n",
       "    }\n",
       "\n",
       "    .dataframe tbody tr th {\n",
       "        vertical-align: top;\n",
       "    }\n",
       "\n",
       "    .dataframe thead th {\n",
       "        text-align: right;\n",
       "    }\n",
       "</style>\n",
       "<table border=\"1\" class=\"dataframe\">\n",
       "  <thead>\n",
       "    <tr style=\"text-align: right;\">\n",
       "      <th></th>\n",
       "      <th>Product</th>\n",
       "      <th>CustomerGender</th>\n",
       "      <th>Location</th>\n",
       "      <th>Region</th>\n",
       "      <th>TotalPrice</th>\n",
       "      <th>StartDate</th>\n",
       "      <th>Deposit</th>\n",
       "      <th>DailyRate</th>\n",
       "      <th>TotalDays</th>\n",
       "      <th>AmountPaid30</th>\n",
       "      <th>AmountPaid60</th>\n",
       "      <th>AmountPaid360</th>\n",
       "      <th>LoanStatus360</th>\n",
       "    </tr>\n",
       "  </thead>\n",
       "  <tbody>\n",
       "    <tr>\n",
       "      <th>0</th>\n",
       "      <td>Product B</td>\n",
       "      <td>Male</td>\n",
       "      <td>Location 2</td>\n",
       "      <td>Region 2</td>\n",
       "      <td>16600</td>\n",
       "      <td>7/4/2014</td>\n",
       "      <td>2000</td>\n",
       "      <td>40</td>\n",
       "      <td>365</td>\n",
       "      <td>3121</td>\n",
       "      <td>4241</td>\n",
       "      <td>13621</td>\n",
       "      <td>Active</td>\n",
       "    </tr>\n",
       "    <tr>\n",
       "      <th>1</th>\n",
       "      <td>Product B</td>\n",
       "      <td>Male</td>\n",
       "      <td>Location 3</td>\n",
       "      <td>Region 3</td>\n",
       "      <td>16600</td>\n",
       "      <td>1/2/2015</td>\n",
       "      <td>2000</td>\n",
       "      <td>40</td>\n",
       "      <td>365</td>\n",
       "      <td>3061</td>\n",
       "      <td>4171</td>\n",
       "      <td>15041</td>\n",
       "      <td>Active</td>\n",
       "    </tr>\n",
       "    <tr>\n",
       "      <th>2</th>\n",
       "      <td>Product C</td>\n",
       "      <td>Female</td>\n",
       "      <td>Location 5</td>\n",
       "      <td>Region 5</td>\n",
       "      <td>15600</td>\n",
       "      <td>12/8/2012</td>\n",
       "      <td>1000</td>\n",
       "      <td>40</td>\n",
       "      <td>365</td>\n",
       "      <td>2160</td>\n",
       "      <td>3280</td>\n",
       "      <td>15340</td>\n",
       "      <td>Active</td>\n",
       "    </tr>\n",
       "    <tr>\n",
       "      <th>3</th>\n",
       "      <td>Product B</td>\n",
       "      <td>Male</td>\n",
       "      <td>Location 6</td>\n",
       "      <td>Region 1</td>\n",
       "      <td>16600</td>\n",
       "      <td>2/20/2015</td>\n",
       "      <td>2000</td>\n",
       "      <td>40</td>\n",
       "      <td>365</td>\n",
       "      <td>3041</td>\n",
       "      <td>4241</td>\n",
       "      <td>15321</td>\n",
       "      <td>Active</td>\n",
       "    </tr>\n",
       "    <tr>\n",
       "      <th>4</th>\n",
       "      <td>Product D</td>\n",
       "      <td>Female</td>\n",
       "      <td>Location 7</td>\n",
       "      <td>Region 2</td>\n",
       "      <td>20250</td>\n",
       "      <td>10/28/2013</td>\n",
       "      <td>2000</td>\n",
       "      <td>50</td>\n",
       "      <td>365</td>\n",
       "      <td>3470</td>\n",
       "      <td>4820</td>\n",
       "      <td>13720</td>\n",
       "      <td>Active</td>\n",
       "    </tr>\n",
       "  </tbody>\n",
       "</table>\n",
       "</div>"
      ],
      "text/plain": [
       "     Product CustomerGender    Location    Region  TotalPrice   StartDate  \\\n",
       "0  Product B           Male  Location 2  Region 2       16600    7/4/2014   \n",
       "1  Product B           Male  Location 3  Region 3       16600    1/2/2015   \n",
       "2  Product C         Female  Location 5  Region 5       15600   12/8/2012   \n",
       "3  Product B           Male  Location 6  Region 1       16600   2/20/2015   \n",
       "4  Product D         Female  Location 7  Region 2       20250  10/28/2013   \n",
       "\n",
       "   Deposit  DailyRate  TotalDays  AmountPaid30  AmountPaid60  AmountPaid360  \\\n",
       "0     2000         40        365          3121          4241          13621   \n",
       "1     2000         40        365          3061          4171          15041   \n",
       "2     1000         40        365          2160          3280          15340   \n",
       "3     2000         40        365          3041          4241          15321   \n",
       "4     2000         50        365          3470          4820          13720   \n",
       "\n",
       "  LoanStatus360  \n",
       "0        Active  \n",
       "1        Active  \n",
       "2        Active  \n",
       "3        Active  \n",
       "4        Active  "
      ]
     },
     "execution_count": 2,
     "metadata": {},
     "output_type": "execute_result"
    }
   ],
   "source": [
    "data = pd.read_csv('DataScienceAssessment (1).csv')\n",
    "data.head()"
   ]
  },
  {
   "cell_type": "code",
   "execution_count": 3,
   "id": "afa70171",
   "metadata": {},
   "outputs": [
    {
     "name": "stdout",
     "output_type": "stream",
     "text": [
      "<class 'pandas.core.frame.DataFrame'>\n",
      "RangeIndex: 9195 entries, 0 to 9194\n",
      "Data columns (total 13 columns):\n",
      " #   Column          Non-Null Count  Dtype \n",
      "---  ------          --------------  ----- \n",
      " 0   Product         9195 non-null   object\n",
      " 1   CustomerGender  9195 non-null   object\n",
      " 2   Location        9195 non-null   object\n",
      " 3   Region          9195 non-null   object\n",
      " 4   TotalPrice      9195 non-null   int64 \n",
      " 5   StartDate       9195 non-null   object\n",
      " 6   Deposit         9195 non-null   int64 \n",
      " 7   DailyRate       9195 non-null   int64 \n",
      " 8   TotalDays       9195 non-null   int64 \n",
      " 9   AmountPaid30    9195 non-null   int64 \n",
      " 10  AmountPaid60    9195 non-null   int64 \n",
      " 11  AmountPaid360   9195 non-null   int64 \n",
      " 12  LoanStatus360   9195 non-null   object\n",
      "dtypes: int64(7), object(6)\n",
      "memory usage: 934.0+ KB\n"
     ]
    }
   ],
   "source": [
    "data.info()"
   ]
  },
  {
   "cell_type": "code",
   "execution_count": 4,
   "id": "2720a72d",
   "metadata": {},
   "outputs": [
    {
     "data": {
      "text/plain": [
       "(9195, 13)"
      ]
     },
     "execution_count": 4,
     "metadata": {},
     "output_type": "execute_result"
    }
   ],
   "source": [
    "data.shape"
   ]
  },
  {
   "cell_type": "markdown",
   "id": "40bae273",
   "metadata": {},
   "source": [
    "### Exploratory Data Analysis"
   ]
  },
  {
   "cell_type": "code",
   "execution_count": 5,
   "id": "7ccab871",
   "metadata": {},
   "outputs": [],
   "source": [
    "# Split data based on data types\n",
    "cat_data = data.select_dtypes(include = 'object')\n",
    "num_data = data.select_dtypes(include = 'number')"
   ]
  },
  {
   "cell_type": "code",
   "execution_count": 89,
   "id": "f4891a65",
   "metadata": {},
   "outputs": [
    {
     "name": "stdout",
     "output_type": "stream",
     "text": [
      "(9195, 6)\n",
      "(9195, 7)\n"
     ]
    }
   ],
   "source": [
    "print(cat_data.shape)\n",
    "print(num_data.shape)"
   ]
  },
  {
   "cell_type": "markdown",
   "id": "606ab21e",
   "metadata": {},
   "source": [
    "#### Exploring categorical features"
   ]
  },
  {
   "cell_type": "code",
   "execution_count": 6,
   "id": "641db393",
   "metadata": {
    "scrolled": true
   },
   "outputs": [
    {
     "data": {
      "text/plain": [
       "Index(['Product', 'CustomerGender', 'Location', 'Region', 'StartDate',\n",
       "       'LoanStatus360'],\n",
       "      dtype='object')"
      ]
     },
     "execution_count": 6,
     "metadata": {},
     "output_type": "execute_result"
    }
   ],
   "source": [
    "cat_data.columns"
   ]
  },
  {
   "cell_type": "code",
   "execution_count": 7,
   "id": "c8bff3f3",
   "metadata": {
    "scrolled": false
   },
   "outputs": [
    {
     "name": "stdout",
     "output_type": "stream",
     "text": [
      "['Active' 'Blocked' 'Finished Payment']\n",
      "\n",
      "Active              6742\n",
      "Finished Payment    1604\n",
      "Blocked              849\n",
      "Name: LoanStatus360, dtype: int64\n"
     ]
    },
    {
     "data": {
      "image/png": "[encoded data removed]",
      "text/plain": [
       "<Figure size 864x432 with 1 Axes>"
      ]
     },
     "metadata": {},
     "output_type": "display_data"
    }
   ],
   "source": [
    "# Check Loan Status count to know how balanced the dataset is\n",
    "print(data['LoanStatus360'].unique())\n",
    "print('')\n",
    "print(data['LoanStatus360'].value_counts())\n",
    "\n",
    "sns.set_style(\"whitegrid\")\n",
    "plt.figure(figsize=(12,6))\n",
    "\n",
    "plt.title('Distribution of loan status')\n",
    "plots = sns.countplot(data['LoanStatus360'])\n",
    "\n",
    "for bar in plots.patches:\n",
    "    plots.annotate(format(bar.get_height(), '.0f'),  \n",
    "                       (bar.get_x() + bar.get_width() / 2,  \n",
    "                        bar.get_height()), ha='center', va='center', \n",
    "                       size=15, xytext=(0, 5), \n",
    "                       textcoords='offset points')"
   ]
  },
  {
   "cell_type": "code",
   "execution_count": 8,
   "id": "a2576ecd",
   "metadata": {},
   "outputs": [
    {
     "name": "stdout",
     "output_type": "stream",
     "text": [
      "['Product B' 'Product C' 'Product D' 'Product A' 'Product E' 'Product F']\n",
      "\n",
      "Product B    3862\n",
      "Product A    3141\n",
      "Product C     999\n",
      "Product D     975\n",
      "Product E     213\n",
      "Product F       5\n",
      "Name: Product, dtype: int64\n"
     ]
    },
    {
     "data": {
      "image/png": "[encoded data removed]",
      "text/plain": [
       "<Figure size 864x432 with 1 Axes>"
      ]
     },
     "metadata": {},
     "output_type": "display_data"
    }
   ],
   "source": [
    "# Plot showing product distribution and loan status count\n",
    "print(data['Product'].unique())\n",
    "print('')\n",
    "print(data['Product'].value_counts())\n",
    "\n",
    "sns.set_style(\"whitegrid\")\n",
    "plt.figure(figsize=(12,6))\n",
    "\n",
    "plt.title('Distribution of product with loan status')\n",
    "plots = sns.countplot(data['Product'], hue=data['LoanStatus360'])\n",
    "\n",
    "for bar in plots.patches:\n",
    "    plots.annotate(format(bar.get_height(), '.0f'),  \n",
    "                       (bar.get_x() + bar.get_width() / 2,  \n",
    "                        bar.get_height()), ha='center', va='center', \n",
    "                       size=15, xytext=(0, 5), \n",
    "                       textcoords='offset points')"
   ]
  },
  {
   "cell_type": "code",
   "execution_count": 9,
   "id": "b2b54e59",
   "metadata": {},
   "outputs": [
    {
     "name": "stdout",
     "output_type": "stream",
     "text": [
      "['Male' 'Female' 'NotSpecified']\n",
      "\n",
      "Male            5358\n",
      "Female          3290\n",
      "NotSpecified     547\n",
      "Name: CustomerGender, dtype: int64\n"
     ]
    },
    {
     "data": {
      "image/png": "[encoded data removed]",
      "text/plain": [
       "<Figure size 864x432 with 1 Axes>"
      ]
     },
     "metadata": {},
     "output_type": "display_data"
    }
   ],
   "source": [
    "# Plot showing gender distibution and loan status\n",
    "print(data['CustomerGender'].unique())\n",
    "print('')\n",
    "print(data['CustomerGender'].value_counts())\n",
    "\n",
    "sns.set_style(\"whitegrid\")\n",
    "plt.figure(figsize=(12,6))\n",
    "\n",
    "plt.title('Distribution of gender with loan status')\n",
    "plots = sns.countplot(data['CustomerGender'], hue=data['LoanStatus360'])\n",
    "\n",
    "for bar in plots.patches:\n",
    "    plots.annotate(format(bar.get_height(), '.0f'),  \n",
    "                       (bar.get_x() + bar.get_width() / 2,  \n",
    "                        bar.get_height()), ha='center', va='center', \n",
    "                       size=15, xytext=(0, 5), \n",
    "                       textcoords='offset points')"
   ]
  },
  {
   "cell_type": "code",
   "execution_count": 10,
   "id": "f7532a3c",
   "metadata": {},
   "outputs": [
    {
     "data": {
      "text/plain": [
       "791"
      ]
     },
     "execution_count": 10,
     "metadata": {},
     "output_type": "execute_result"
    }
   ],
   "source": [
    "# Number of unique location\n",
    "data['Location'].nunique()"
   ]
  },
  {
   "cell_type": "code",
   "execution_count": 11,
   "id": "6862db47",
   "metadata": {},
   "outputs": [
    {
     "data": {
      "text/plain": [
       "Region 6    2934\n",
       "Region 3    1941\n",
       "Region 2    1364\n",
       "Region 1    1232\n",
       "Region 7     622\n",
       "Region 4     588\n",
       "Region 5     198\n",
       "Name: Region, dtype: int64"
      ]
     },
     "execution_count": 11,
     "metadata": {},
     "output_type": "execute_result"
    }
   ],
   "source": [
    "# Number of unique region within the dataset\n",
    "data['Region'].value_counts().sort_values(ascending=False)[:7]"
   ]
  },
  {
   "cell_type": "code",
   "execution_count": 12,
   "id": "97918145",
   "metadata": {
    "scrolled": false
   },
   "outputs": [
    {
     "name": "stdout",
     "output_type": "stream",
     "text": [
      "['Region 2' 'Region 3' 'Region 5' 'Region 1' 'Region 6' 'Region 4'\n",
      " 'Region 7' 'Region 10' 'Region 11' 'Region 9' 'Region 12' 'Region 8'\n",
      " 'Region 13' 'Region 14' 'Region 15' 'Region 16' 'Region 17' 'Region 18']\n",
      "\n",
      "Region 6     2934\n",
      "Region 3     1941\n",
      "Region 2     1364\n",
      "Region 1     1232\n",
      "Region 7      622\n",
      "Region 4      588\n",
      "Region 5      198\n",
      "Region 13      62\n",
      "Region 8       44\n",
      "Region 12      39\n",
      "Region 10      38\n",
      "Region 9       33\n",
      "Region 14      25\n",
      "Region 15      22\n",
      "Region 18      16\n",
      "Region 17      14\n",
      "Region 11      12\n",
      "Region 16      11\n",
      "Name: Region, dtype: int64\n"
     ]
    },
    {
     "data": {
      "text/plain": [
       "<Figure size 864x432 with 0 Axes>"
      ]
     },
     "execution_count": 12,
     "metadata": {},
     "output_type": "execute_result"
    },
    {
     "data": {
      "text/plain": [
       "<Figure size 864x432 with 0 Axes>"
      ]
     },
     "metadata": {},
     "output_type": "display_data"
    }
   ],
   "source": [
    "print(data['Region'].unique())\n",
    "print('')\n",
    "print(data['Region'].value_counts())\n",
    "\n",
    "sns.set_style(\"whitegrid\")\n",
    "plt.figure(figsize=(12,6))\n",
    "\n",
    "# plt.title('Distribution of Region with loan status')\n",
    "# plots = sns.countplot(data['Region'], hue=data['LoanStatus360'])\n",
    "\n",
    "# for bar in plots.patches:\n",
    "#     plots.annotate(format(bar.get_height(), '.0f'),  \n",
    "#                        (bar.get_x() + bar.get_width() / 2,  \n",
    "#                         bar.get_height()), ha='center', va='center', \n",
    "#                        size=15, xytext=(0, 5), \n",
    "#                        textcoords='offset points')"
   ]
  },
  {
   "cell_type": "markdown",
   "id": "ab4dd392",
   "metadata": {},
   "source": [
    "#### Exploring numerical features"
   ]
  },
  {
   "cell_type": "code",
   "execution_count": 13,
   "id": "bf786461",
   "metadata": {
    "scrolled": true
   },
   "outputs": [
    {
     "data": {
      "text/html": [
       "<div>\n",
       "<style scoped>\n",
       "    .dataframe tbody tr th:only-of-type {\n",
       "        vertical-align: middle;\n",
       "    }\n",
       "\n",
       "    .dataframe tbody tr th {\n",
       "        vertical-align: top;\n",
       "    }\n",
       "\n",
       "    .dataframe thead th {\n",
       "        text-align: right;\n",
       "    }\n",
       "</style>\n",
       "<table border=\"1\" class=\"dataframe\">\n",
       "  <thead>\n",
       "    <tr style=\"text-align: right;\">\n",
       "      <th></th>\n",
       "      <th>TotalPrice</th>\n",
       "      <th>Deposit</th>\n",
       "      <th>DailyRate</th>\n",
       "      <th>TotalDays</th>\n",
       "      <th>AmountPaid30</th>\n",
       "      <th>AmountPaid60</th>\n",
       "      <th>AmountPaid360</th>\n",
       "    </tr>\n",
       "  </thead>\n",
       "  <tbody>\n",
       "    <tr>\n",
       "      <th>0</th>\n",
       "      <td>16600</td>\n",
       "      <td>2000</td>\n",
       "      <td>40</td>\n",
       "      <td>365</td>\n",
       "      <td>3121</td>\n",
       "      <td>4241</td>\n",
       "      <td>13621</td>\n",
       "    </tr>\n",
       "    <tr>\n",
       "      <th>1</th>\n",
       "      <td>16600</td>\n",
       "      <td>2000</td>\n",
       "      <td>40</td>\n",
       "      <td>365</td>\n",
       "      <td>3061</td>\n",
       "      <td>4171</td>\n",
       "      <td>15041</td>\n",
       "    </tr>\n",
       "    <tr>\n",
       "      <th>2</th>\n",
       "      <td>15600</td>\n",
       "      <td>1000</td>\n",
       "      <td>40</td>\n",
       "      <td>365</td>\n",
       "      <td>2160</td>\n",
       "      <td>3280</td>\n",
       "      <td>15340</td>\n",
       "    </tr>\n",
       "    <tr>\n",
       "      <th>3</th>\n",
       "      <td>16600</td>\n",
       "      <td>2000</td>\n",
       "      <td>40</td>\n",
       "      <td>365</td>\n",
       "      <td>3041</td>\n",
       "      <td>4241</td>\n",
       "      <td>15321</td>\n",
       "    </tr>\n",
       "    <tr>\n",
       "      <th>4</th>\n",
       "      <td>20250</td>\n",
       "      <td>2000</td>\n",
       "      <td>50</td>\n",
       "      <td>365</td>\n",
       "      <td>3470</td>\n",
       "      <td>4820</td>\n",
       "      <td>13720</td>\n",
       "    </tr>\n",
       "  </tbody>\n",
       "</table>\n",
       "</div>"
      ],
      "text/plain": [
       "   TotalPrice  Deposit  DailyRate  TotalDays  AmountPaid30  AmountPaid60  \\\n",
       "0       16600     2000         40        365          3121          4241   \n",
       "1       16600     2000         40        365          3061          4171   \n",
       "2       15600     1000         40        365          2160          3280   \n",
       "3       16600     2000         40        365          3041          4241   \n",
       "4       20250     2000         50        365          3470          4820   \n",
       "\n",
       "   AmountPaid360  \n",
       "0          13621  \n",
       "1          15041  \n",
       "2          15340  \n",
       "3          15321  \n",
       "4          13720  "
      ]
     },
     "execution_count": 13,
     "metadata": {},
     "output_type": "execute_result"
    }
   ],
   "source": [
    "num_data.head()"
   ]
  },
  {
   "cell_type": "code",
   "execution_count": 14,
   "id": "c0fd5f24",
   "metadata": {
    "scrolled": true
   },
   "outputs": [
    {
     "data": {
      "text/html": [
       "<div>\n",
       "<style scoped>\n",
       "    .dataframe tbody tr th:only-of-type {\n",
       "        vertical-align: middle;\n",
       "    }\n",
       "\n",
       "    .dataframe tbody tr th {\n",
       "        vertical-align: top;\n",
       "    }\n",
       "\n",
       "    .dataframe thead th {\n",
       "        text-align: right;\n",
       "    }\n",
       "</style>\n",
       "<table border=\"1\" class=\"dataframe\">\n",
       "  <thead>\n",
       "    <tr style=\"text-align: right;\">\n",
       "      <th></th>\n",
       "      <th>TotalPrice</th>\n",
       "      <th>Deposit</th>\n",
       "      <th>DailyRate</th>\n",
       "      <th>TotalDays</th>\n",
       "      <th>AmountPaid30</th>\n",
       "      <th>AmountPaid60</th>\n",
       "      <th>AmountPaid360</th>\n",
       "    </tr>\n",
       "  </thead>\n",
       "  <tbody>\n",
       "    <tr>\n",
       "      <th>count</th>\n",
       "      <td>9195.000000</td>\n",
       "      <td>9195.000000</td>\n",
       "      <td>9195.000000</td>\n",
       "      <td>9195.0</td>\n",
       "      <td>9195.000000</td>\n",
       "      <td>9195.000000</td>\n",
       "      <td>9195.000000</td>\n",
       "    </tr>\n",
       "    <tr>\n",
       "      <th>mean</th>\n",
       "      <td>19266.264274</td>\n",
       "      <td>2311.528004</td>\n",
       "      <td>46.451332</td>\n",
       "      <td>365.0</td>\n",
       "      <td>3580.482762</td>\n",
       "      <td>4735.672974</td>\n",
       "      <td>14673.833061</td>\n",
       "    </tr>\n",
       "    <tr>\n",
       "      <th>std</th>\n",
       "      <td>6053.291677</td>\n",
       "      <td>1412.612091</td>\n",
       "      <td>13.375759</td>\n",
       "      <td>0.0</td>\n",
       "      <td>2487.320211</td>\n",
       "      <td>2756.332798</td>\n",
       "      <td>6676.242654</td>\n",
       "    </tr>\n",
       "    <tr>\n",
       "      <th>min</th>\n",
       "      <td>13775.000000</td>\n",
       "      <td>1000.000000</td>\n",
       "      <td>35.000000</td>\n",
       "      <td>365.0</td>\n",
       "      <td>-3200.000000</td>\n",
       "      <td>-3200.000000</td>\n",
       "      <td>-3200.000000</td>\n",
       "    </tr>\n",
       "    <tr>\n",
       "      <th>25%</th>\n",
       "      <td>16600.000000</td>\n",
       "      <td>2000.000000</td>\n",
       "      <td>40.000000</td>\n",
       "      <td>365.0</td>\n",
       "      <td>2500.000000</td>\n",
       "      <td>3437.500000</td>\n",
       "      <td>11351.000000</td>\n",
       "    </tr>\n",
       "    <tr>\n",
       "      <th>50%</th>\n",
       "      <td>16600.000000</td>\n",
       "      <td>2000.000000</td>\n",
       "      <td>40.000000</td>\n",
       "      <td>365.0</td>\n",
       "      <td>3351.000000</td>\n",
       "      <td>4400.000000</td>\n",
       "      <td>15140.000000</td>\n",
       "    </tr>\n",
       "    <tr>\n",
       "      <th>75%</th>\n",
       "      <td>20250.000000</td>\n",
       "      <td>2000.000000</td>\n",
       "      <td>50.000000</td>\n",
       "      <td>365.0</td>\n",
       "      <td>4601.000000</td>\n",
       "      <td>5668.000000</td>\n",
       "      <td>16600.000000</td>\n",
       "    </tr>\n",
       "    <tr>\n",
       "      <th>max</th>\n",
       "      <td>69225.000000</td>\n",
       "      <td>9000.000000</td>\n",
       "      <td>165.000000</td>\n",
       "      <td>365.0</td>\n",
       "      <td>26001.000000</td>\n",
       "      <td>33501.000000</td>\n",
       "      <td>69225.000000</td>\n",
       "    </tr>\n",
       "  </tbody>\n",
       "</table>\n",
       "</div>"
      ],
      "text/plain": [
       "         TotalPrice      Deposit    DailyRate  TotalDays  AmountPaid30  \\\n",
       "count   9195.000000  9195.000000  9195.000000     9195.0   9195.000000   \n",
       "mean   19266.264274  2311.528004    46.451332      365.0   3580.482762   \n",
       "std     6053.291677  1412.612091    13.375759        0.0   2487.320211   \n",
       "min    13775.000000  1000.000000    35.000000      365.0  -3200.000000   \n",
       "25%    16600.000000  2000.000000    40.000000      365.0   2500.000000   \n",
       "50%    16600.000000  2000.000000    40.000000      365.0   3351.000000   \n",
       "75%    20250.000000  2000.000000    50.000000      365.0   4601.000000   \n",
       "max    69225.000000  9000.000000   165.000000      365.0  26001.000000   \n",
       "\n",
       "       AmountPaid60  AmountPaid360  \n",
       "count   9195.000000    9195.000000  \n",
       "mean    4735.672974   14673.833061  \n",
       "std     2756.332798    6676.242654  \n",
       "min    -3200.000000   -3200.000000  \n",
       "25%     3437.500000   11351.000000  \n",
       "50%     4400.000000   15140.000000  \n",
       "75%     5668.000000   16600.000000  \n",
       "max    33501.000000   69225.000000  "
      ]
     },
     "execution_count": 14,
     "metadata": {},
     "output_type": "execute_result"
    }
   ],
   "source": [
    "# Descriptive statistic about the data\n",
    "num_data.describe()"
   ]
  },
  {
   "cell_type": "code",
   "execution_count": 91,
   "id": "11713f4b",
   "metadata": {
    "scrolled": false
   },
   "outputs": [
    {
     "data": {
      "text/plain": [
       "<AxesSubplot:title={'center':'Amount Paid 360 vs Total PRice'}, xlabel='TotalPrice', ylabel='AmountPaid360'>"
      ]
     },
     "execution_count": 91,
     "metadata": {},
     "output_type": "execute_result"
    },
    {
     "data": {
      "image/png": "[encoded data removed]",
      "text/plain": [
       "<Figure size 864x432 with 1 Axes>"
      ]
     },
     "metadata": {},
     "output_type": "display_data"
    }
   ],
   "source": [
    "# Total Amount to be paid vs Total amount paid distribution\n",
    "plt.figure(figsize=(12,6))\n",
    "\n",
    "plt.title('Amount Paid 360 vs Total PRice')\n",
    "sns.scatterplot(data['TotalPrice'], data['AmountPaid360'])"
   ]
  },
  {
   "cell_type": "code",
   "execution_count": 16,
   "id": "3d41dbea",
   "metadata": {
    "scrolled": true
   },
   "outputs": [
    {
     "data": {
      "text/plain": [
       "<AxesSubplot:xlabel='Deposit', ylabel='AmountPaid360'>"
      ]
     },
     "execution_count": 16,
     "metadata": {},
     "output_type": "execute_result"
    },
    {
     "data": {
      "image/png": "[encoded data removed]",
      "text/plain": [
       "<Figure size 432x288 with 1 Axes>"
      ]
     },
     "metadata": {},
     "output_type": "display_data"
    }
   ],
   "source": [
    "sns.scatterplot(data['Deposit'], data['AmountPaid360'])"
   ]
  },
  {
   "cell_type": "code",
   "execution_count": 17,
   "id": "bbe3e0ed",
   "metadata": {},
   "outputs": [
    {
     "data": {
      "text/plain": [
       "<AxesSubplot:xlabel='DailyRate', ylabel='AmountPaid360'>"
      ]
     },
     "execution_count": 17,
     "metadata": {},
     "output_type": "execute_result"
    },
    {
     "data": {
      "image/png": "[encoded data removed]",
      "text/plain": [
       "<Figure size 432x288 with 1 Axes>"
      ]
     },
     "metadata": {},
     "output_type": "display_data"
    }
   ],
   "source": [
    "sns.scatterplot(data['DailyRate'], data['AmountPaid360'])"
   ]
  },
  {
   "cell_type": "code",
   "execution_count": 18,
   "id": "d492dc74",
   "metadata": {},
   "outputs": [
    {
     "data": {
      "text/plain": [
       "<seaborn.axisgrid.PairGrid at 0x2ecbfe599a0>"
      ]
     },
     "execution_count": 18,
     "metadata": {},
     "output_type": "execute_result"
    },
    {
     "data": {
      "image/png": "[encoded data removed]",
      "text/plain": [
       "<Figure size 1260x1260 with 56 Axes>"
      ]
     },
     "metadata": {},
     "output_type": "display_data"
    }
   ],
   "source": [
    "# Check out multivariate correlation between numerical features\n",
    "sns.pairplot(num_data)"
   ]
  },
  {
   "cell_type": "markdown",
   "id": "bd20913d",
   "metadata": {},
   "source": [
    "### Encode Target Variable"
   ]
  },
  {
   "cell_type": "code",
   "execution_count": 19,
   "id": "bbc67c2b",
   "metadata": {},
   "outputs": [],
   "source": [
    "# Target Variable encoded as -1 for blocked account, 0 for active and 1 for fully paid as this is an ordinal categorical \n",
    "# feature where the encoded values are relevant in the analysis"
   ]
  },
  {
   "cell_type": "code",
   "execution_count": 20,
   "id": "f15022c7",
   "metadata": {},
   "outputs": [],
   "source": [
    "# encode target variable loan status\n",
    "def encode_target(df, target):\n",
    "    loan_status = {'Blocked': -1, 'Active': 0, 'Finished Payment': 1}\n",
    "    df[target]= df[target].map(loan_status)"
   ]
  },
  {
   "cell_type": "code",
   "execution_count": 21,
   "id": "67909bed",
   "metadata": {},
   "outputs": [],
   "source": [
    "encode_target(data,'LoanStatus360')"
   ]
  },
  {
   "cell_type": "code",
   "execution_count": 22,
   "id": "84ec76bd",
   "metadata": {
    "scrolled": true
   },
   "outputs": [
    {
     "data": {
      "text/plain": [
       " 0    6742\n",
       " 1    1604\n",
       "-1     849\n",
       "Name: LoanStatus360, dtype: int64"
      ]
     },
     "execution_count": 22,
     "metadata": {},
     "output_type": "execute_result"
    }
   ],
   "source": [
    "data['LoanStatus360'].value_counts()"
   ]
  },
  {
   "cell_type": "markdown",
   "id": "18b9bc89",
   "metadata": {},
   "source": [
    "### Data Splitting"
   ]
  },
  {
   "cell_type": "markdown",
   "id": "02411ed5",
   "metadata": {},
   "source": [
    "Start date will be dropped during splitting as there is a total days features which shows the number of days from start date to the current loan status date. \n",
    "\n",
    "Location would be dropped as well, as region and location holds similar meaning and it would only make sense to use one of the two."
   ]
  },
  {
   "cell_type": "code",
   "execution_count": 23,
   "id": "a591c304",
   "metadata": {},
   "outputs": [],
   "source": [
    "from sklearn.model_selection import train_test_split\n",
    "\n",
    "# split data into 80% training dataset and 20% testing dataset\n",
    "X = data.drop(['LoanStatus360','StartDate','Location'], axis = 1)\n",
    "y = data['LoanStatus360']\n",
    "\n",
    "X_train, X_test, y_train, y_test = train_test_split(X, y, test_size = 0.2,random_state = 42, stratify=y)"
   ]
  },
  {
   "cell_type": "code",
   "execution_count": 92,
   "id": "0c03a996",
   "metadata": {},
   "outputs": [
    {
     "data": {
      "text/plain": [
       "Counter({0: 5394, -1: 679, 1: 1283})"
      ]
     },
     "execution_count": 92,
     "metadata": {},
     "output_type": "execute_result"
    }
   ],
   "source": [
    "from collections import Counter\n",
    "Counter(y_train)"
   ]
  },
  {
   "cell_type": "markdown",
   "id": "6b694e0e",
   "metadata": {},
   "source": [
    "## Data Preprocessing"
   ]
  },
  {
   "cell_type": "markdown",
   "id": "0ced8cbb",
   "metadata": {},
   "source": [
    "### Feature Selection"
   ]
  },
  {
   "cell_type": "markdown",
   "id": "cc35aef5",
   "metadata": {},
   "source": [
    "Feature selection is a vital approach in data science because of variety of reasons, some of which will be listed here.\n",
    "\n",
    "1. It helps prevent over-fitting and improves model performance.\n",
    "2. To provide provide faster models and also manage computation.\n",
    "3. Better insight insight is gained as to how each feature contribute to the entire dataset"
   ]
  },
  {
   "cell_type": "code",
   "execution_count": 24,
   "id": "20bee0eb",
   "metadata": {},
   "outputs": [],
   "source": [
    "# first divide training data into categorical and numerical subsets\n",
    "X_train_cat = X_train.select_dtypes(include = 'object').copy()\n",
    "X_train_num = X_train.select_dtypes(include = 'number').copy()"
   ]
  },
  {
   "cell_type": "code",
   "execution_count": 25,
   "id": "966357b7",
   "metadata": {},
   "outputs": [
    {
     "data": {
      "text/plain": [
       "Index(['Product', 'CustomerGender', 'Region'], dtype='object')"
      ]
     },
     "execution_count": 25,
     "metadata": {},
     "output_type": "execute_result"
    }
   ],
   "source": [
    "X_train_cat.columns"
   ]
  },
  {
   "cell_type": "markdown",
   "id": "9bad9f5d",
   "metadata": {},
   "source": [
    "#### categorical feature selection"
   ]
  },
  {
   "cell_type": "markdown",
   "id": "5c512b7d",
   "metadata": {},
   "source": [
    "The Chi-Squared test is used to determine the extent of relationship or dependence between two categorical variables — in this case, one categorical input feature, and the other, a categorical target variable. So we will iterativly run through the categorical features perfroming the test.\n",
    "\n",
    "In case of unencoded categorical features like we will be using here, a contingency table created with **pd.crosstab** will help relating number of occurence of each category with the target variable after which Chi-squared test will then be carried out.\n",
    "\n",
    "A p-value will be returned along side other statiscal variables like degree of freedom etc. Since we care if the feature is relevant to predicting our target or not, a value lesser than **0.05** will assert that we reject the null hypothesis stating the feature is not relevant for predicting the target variable, in our case LoanStatus360"
   ]
  },
  {
   "cell_type": "code",
   "execution_count": 26,
   "id": "87df0a14",
   "metadata": {},
   "outputs": [],
   "source": [
    "# import necessary library\n",
    "\n",
    "# For object type categorical features that have not been numerically encoded we use chi2_contingency\n",
    "from scipy.stats import chi2_contingency"
   ]
  },
  {
   "cell_type": "code",
   "execution_count": 27,
   "id": "5c452110",
   "metadata": {},
   "outputs": [
    {
     "data": {
      "text/html": [
       "<div>\n",
       "<style scoped>\n",
       "    .dataframe tbody tr th:only-of-type {\n",
       "        vertical-align: middle;\n",
       "    }\n",
       "\n",
       "    .dataframe tbody tr th {\n",
       "        vertical-align: top;\n",
       "    }\n",
       "\n",
       "    .dataframe thead th {\n",
       "        text-align: right;\n",
       "    }\n",
       "</style>\n",
       "<table border=\"1\" class=\"dataframe\">\n",
       "  <thead>\n",
       "    <tr style=\"text-align: right;\">\n",
       "      <th></th>\n",
       "      <th>Feature</th>\n",
       "      <th>p-value</th>\n",
       "    </tr>\n",
       "  </thead>\n",
       "  <tbody>\n",
       "    <tr>\n",
       "      <th>0</th>\n",
       "      <td>Product</td>\n",
       "      <td>0.0</td>\n",
       "    </tr>\n",
       "    <tr>\n",
       "      <th>1</th>\n",
       "      <td>CustomerGender</td>\n",
       "      <td>0.0</td>\n",
       "    </tr>\n",
       "    <tr>\n",
       "      <th>2</th>\n",
       "      <td>Region</td>\n",
       "      <td>0.0</td>\n",
       "    </tr>\n",
       "  </tbody>\n",
       "</table>\n",
       "</div>"
      ],
      "text/plain": [
       "          Feature  p-value\n",
       "0         Product      0.0\n",
       "1  CustomerGender      0.0\n",
       "2          Region      0.0"
      ]
     },
     "execution_count": 27,
     "metadata": {},
     "output_type": "execute_result"
    }
   ],
   "source": [
    "# define an empty dictionary to store chi-test results\n",
    "chi2_check = {}\n",
    "\n",
    "# loop over each column in the encoded training set to calculate chi statistic with the target variable\n",
    "for column in X_train_cat:\n",
    "    chi, p, dof, ex = chi2_contingency(pd.crosstab(y_train, X_train_cat[column]))\n",
    "    chi2_check.setdefault('Categorical_Feature',[]).append(column)\n",
    "    chi2_check.setdefault('p-value',[]).append(round(p, 10))\n",
    "    \n",
    "# convert the dictionary to a DF\n",
    "chi2_result = pd.DataFrame(data = chi2_check)\n",
    "chi2_result"
   ]
  },
  {
   "cell_type": "code",
   "execution_count": 28,
   "id": "df2f3780",
   "metadata": {},
   "outputs": [
    {
     "data": {
      "text/plain": [
       "['Product', 'CustomerGender', 'Region']"
      ]
     },
     "execution_count": 28,
     "metadata": {},
     "output_type": "execute_result"
    }
   ],
   "source": [
    "chi2_result.sort_values(by = ['p-value'], ascending = True, ignore_index = True, inplace = True)\n",
    "\n",
    "# select the top 4 features based on lowest p values\n",
    "top4_chi2 = chi2_result.nsmallest(4, 'p-value')['Feature'].tolist()\n",
    "top4_chi2"
   ]
  },
  {
   "cell_type": "markdown",
   "id": "b6416df9",
   "metadata": {},
   "source": [
    "#### Numerical feature selection"
   ]
  },
  {
   "cell_type": "markdown",
   "id": "7ab73a25",
   "metadata": {},
   "source": [
    "The Analysis of Variance (ANOVA) F-statistic calculates the ratio of variances of the means of two or more samples of data. The higher this ratio between a numerical input feature and a categorical target feature, the lower the independence between the two and more likely to be useful for model training.\n",
    "\n",
    "Just as explained when using chi2 test for categorical feature selection. The f_classif returns some statistical variables along side a p-value for each feature. We select features with p-values lesser than 0.05 which inferes that the faeture is statiscally significant for the purpose of our prediction with respect to the target variable."
   ]
  },
  {
   "cell_type": "code",
   "execution_count": 29,
   "id": "b1b769fe",
   "metadata": {},
   "outputs": [],
   "source": [
    "# import the required library\n",
    "from sklearn.feature_selection import f_classif"
   ]
  },
  {
   "cell_type": "code",
   "execution_count": 30,
   "id": "30385661",
   "metadata": {},
   "outputs": [],
   "source": [
    "# Calculate F Statistic and corresponding p values\n",
    "F_statistic, p_values = f_classif(X_train_num, y_train)\n",
    "\n",
    "# convert to a DF\n",
    "ANOVA_F_table = pd.DataFrame(data = {\n",
    "    'Numerical_Feature': X_train_num.columns.values,\n",
    "    'F-Score': F_statistic, \n",
    "    'p-values': p_values.round(decimals=5)\n",
    "})"
   ]
  },
  {
   "cell_type": "code",
   "execution_count": 31,
   "id": "f3e2c6b7",
   "metadata": {},
   "outputs": [
    {
     "data": {
      "text/html": [
       "<div>\n",
       "<style scoped>\n",
       "    .dataframe tbody tr th:only-of-type {\n",
       "        vertical-align: middle;\n",
       "    }\n",
       "\n",
       "    .dataframe tbody tr th {\n",
       "        vertical-align: top;\n",
       "    }\n",
       "\n",
       "    .dataframe thead th {\n",
       "        text-align: right;\n",
       "    }\n",
       "</style>\n",
       "<table border=\"1\" class=\"dataframe\">\n",
       "  <thead>\n",
       "    <tr style=\"text-align: right;\">\n",
       "      <th></th>\n",
       "      <th>Numerical_Feature</th>\n",
       "      <th>F-Score</th>\n",
       "      <th>p-values</th>\n",
       "    </tr>\n",
       "  </thead>\n",
       "  <tbody>\n",
       "    <tr>\n",
       "      <th>0</th>\n",
       "      <td>AmountPaid360</td>\n",
       "      <td>1038.254302</td>\n",
       "      <td>0.0</td>\n",
       "    </tr>\n",
       "    <tr>\n",
       "      <th>1</th>\n",
       "      <td>AmountPaid60</td>\n",
       "      <td>201.848569</td>\n",
       "      <td>0.0</td>\n",
       "    </tr>\n",
       "    <tr>\n",
       "      <th>2</th>\n",
       "      <td>AmountPaid30</td>\n",
       "      <td>144.106762</td>\n",
       "      <td>0.0</td>\n",
       "    </tr>\n",
       "    <tr>\n",
       "      <th>3</th>\n",
       "      <td>DailyRate</td>\n",
       "      <td>25.054755</td>\n",
       "      <td>0.0</td>\n",
       "    </tr>\n",
       "    <tr>\n",
       "      <th>4</th>\n",
       "      <td>TotalPrice</td>\n",
       "      <td>23.793842</td>\n",
       "      <td>0.0</td>\n",
       "    </tr>\n",
       "    <tr>\n",
       "      <th>5</th>\n",
       "      <td>Deposit</td>\n",
       "      <td>13.754006</td>\n",
       "      <td>0.0</td>\n",
       "    </tr>\n",
       "    <tr>\n",
       "      <th>6</th>\n",
       "      <td>TotalDays</td>\n",
       "      <td>NaN</td>\n",
       "      <td>NaN</td>\n",
       "    </tr>\n",
       "  </tbody>\n",
       "</table>\n",
       "</div>"
      ],
      "text/plain": [
       "  Numerical_Feature      F-Score  p-values\n",
       "0     AmountPaid360  1038.254302       0.0\n",
       "1      AmountPaid60   201.848569       0.0\n",
       "2      AmountPaid30   144.106762       0.0\n",
       "3         DailyRate    25.054755       0.0\n",
       "4        TotalPrice    23.793842       0.0\n",
       "5           Deposit    13.754006       0.0\n",
       "6         TotalDays          NaN       NaN"
      ]
     },
     "execution_count": 31,
     "metadata": {},
     "output_type": "execute_result"
    }
   ],
   "source": [
    "ANOVA_F_table.sort_values(by = ['F-Score'], ascending = False, ignore_index = True, inplace = True)\n",
    "ANOVA_F_table"
   ]
  },
  {
   "cell_type": "code",
   "execution_count": 32,
   "id": "808892be",
   "metadata": {},
   "outputs": [
    {
     "data": {
      "text/plain": [
       "['AmountPaid360',\n",
       " 'AmountPaid60',\n",
       " 'AmountPaid30',\n",
       " 'DailyRate',\n",
       " 'TotalPrice',\n",
       " 'Deposit']"
      ]
     },
     "execution_count": 32,
     "metadata": {},
     "output_type": "execute_result"
    }
   ],
   "source": [
    "# save the top 5 numerical features in a list\n",
    "top_num_features = ANOVA_F_table.iloc[:6,0].to_list()\n",
    "top_num_features"
   ]
  },
  {
   "cell_type": "markdown",
   "id": "7b225397",
   "metadata": {},
   "source": [
    "### Check variable correlation"
   ]
  },
  {
   "cell_type": "markdown",
   "id": "1455248e",
   "metadata": {},
   "source": [
    "Another vital method in feature selection is checking how much each numerical variable correlates with one another using spearman's correlation technique.\n",
    "\n",
    "Correlating variables tend to provide similar information about the dataset. Having higly correlated variable will prevent accurate prediction of the target variable as correlating features will predict each other more often than our variable of interst (LoanStatus360).\n",
    "\n",
    "To Prevent this from happening and also to have an optimized model, we check for correlation and drop one of the features having correlation greater than a specified threshold."
   ]
  },
  {
   "cell_type": "code",
   "execution_count": 33,
   "id": "7bb95d84",
   "metadata": {},
   "outputs": [
    {
     "data": {
      "text/plain": [
       "<AxesSubplot:>"
      ]
     },
     "execution_count": 33,
     "metadata": {},
     "output_type": "execute_result"
    },
    {
     "data": {
      "image/png": "[encoded data removed]",
      "text/plain": [
       "<Figure size 864x864 with 2 Axes>"
      ]
     },
     "metadata": {},
     "output_type": "display_data"
    }
   ],
   "source": [
    "# calculate pair-wise correlations between the numerical features \n",
    "\n",
    "corrmat = X_train_num[top_num_features].corr()\n",
    "\n",
    "plt.figure(figsize=(12,12))\n",
    "sns.heatmap(corrmat)"
   ]
  },
  {
   "cell_type": "code",
   "execution_count": 34,
   "id": "11aced91",
   "metadata": {},
   "outputs": [],
   "source": [
    "# Check for correlation in the training dataset\n",
    "\n",
    "def get_correlated(data, threshold):\n",
    "    cols = set()\n",
    "    corrmat = data.corr()\n",
    "    for i in range(len(corrmat.columns)):\n",
    "        for j in range(i):\n",
    "            if corrmat.iloc[i,j] > threshold:\n",
    "                colname = corrmat.columns[i]\n",
    "                cols.add(colname)\n",
    "    return cols"
   ]
  },
  {
   "cell_type": "code",
   "execution_count": 35,
   "id": "a8f7b07d",
   "metadata": {},
   "outputs": [
    {
     "data": {
      "text/plain": [
       "{'AmountPaid30', 'TotalPrice'}"
      ]
     },
     "execution_count": 35,
     "metadata": {},
     "output_type": "execute_result"
    }
   ],
   "source": [
    "# dropping features having correlation greater than 0.9\n",
    "correlated_data = get_correlated(X_train_num[top_num_features], 0.9)\n",
    "correlated_data "
   ]
  },
  {
   "cell_type": "code",
   "execution_count": 36,
   "id": "bde4a003",
   "metadata": {},
   "outputs": [
    {
     "data": {
      "text/plain": [
       "['TotalDays', 'AmountPaid30', 'TotalPrice']"
      ]
     },
     "execution_count": 36,
     "metadata": {},
     "output_type": "execute_result"
    }
   ],
   "source": [
    "# save the names of columns to be dropped in a list\n",
    "# Since all the categorical columns are relevant to our analysis, we drop irrelevant column from the numerical features and \n",
    "# also the correlating features \n",
    "\n",
    "drop_columns_list = ANOVA_F_table.iloc[6:, 0].to_list()\n",
    "drop_columns_list.extend(correlated_data)\n",
    "drop_columns_list"
   ]
  },
  {
   "cell_type": "code",
   "execution_count": 37,
   "id": "d54e15e8",
   "metadata": {},
   "outputs": [],
   "source": [
    "# function to drop these columns\n",
    "def col_to_drop(df, columns_list):\n",
    "    df.drop(columns = columns_list, inplace = True)\n",
    "\n",
    "# apply to X_train\n",
    "col_to_drop(X_train, drop_columns_list)"
   ]
  },
  {
   "cell_type": "code",
   "execution_count": 38,
   "id": "a863c87c",
   "metadata": {},
   "outputs": [
    {
     "data": {
      "text/plain": [
       "(7356, 7)"
      ]
     },
     "execution_count": 38,
     "metadata": {},
     "output_type": "execute_result"
    }
   ],
   "source": [
    "X_train.shape"
   ]
  },
  {
   "cell_type": "markdown",
   "id": "b98cf318",
   "metadata": {},
   "source": [
    "### Encode Selected Categorical Features"
   ]
  },
  {
   "cell_type": "markdown",
   "id": "a713f448",
   "metadata": {},
   "source": [
    "Because scikit learn algorithms won't accept strings, we have to encode our categorical features. Since these features are nominal, we will apply an encoding that does not add rank to unique element of these features, thus we will have 0s and 1s for when an observation is absent or present respectively. For this purpose, pandas get dummies will be used. To prevent the dummy variable trap, one of the encoded feature will be dropped. "
   ]
  },
  {
   "cell_type": "code",
   "execution_count": 39,
   "id": "a3ec46ad",
   "metadata": {},
   "outputs": [],
   "source": [
    "# function to create dummy variables\n",
    "def dummy_creation(df, columns_list):\n",
    "    df_dummies = []\n",
    "    for col in columns_list:\n",
    "        df_dummies.append(pd.get_dummies(df[col], prefix = col, drop_first=True, prefix_sep = '-'))\n",
    "    df_dummies = pd.concat(df_dummies, axis = 1)\n",
    "    df = pd.concat([df, df_dummies], axis = 1)\n",
    "    df.drop(columns_list, axis=1,inplace = True)\n",
    "    return df"
   ]
  },
  {
   "cell_type": "code",
   "execution_count": 40,
   "id": "8ea20fb8",
   "metadata": {},
   "outputs": [],
   "source": [
    "# create dummy variables for unencoded categorical features\n",
    "X_train = dummy_creation(X_train,['Product', 'CustomerGender', 'Region'])"
   ]
  },
  {
   "cell_type": "code",
   "execution_count": 41,
   "id": "d57379bf",
   "metadata": {
    "scrolled": true
   },
   "outputs": [
    {
     "data": {
      "text/plain": [
       "(7356, 28)"
      ]
     },
     "execution_count": 41,
     "metadata": {},
     "output_type": "execute_result"
    }
   ],
   "source": [
    "X_train.shape"
   ]
  },
  {
   "cell_type": "markdown",
   "id": "b2172448",
   "metadata": {},
   "source": [
    "### Apply above preprocessing steps to the test dataset"
   ]
  },
  {
   "cell_type": "code",
   "execution_count": 42,
   "id": "5ce40d8b",
   "metadata": {},
   "outputs": [],
   "source": [
    "# Drop irrelevant features \n",
    "col_to_drop(X_test, drop_columns_list)\n",
    "\n",
    "# Create dummy variables for categorical features\n",
    "X_test = dummy_creation(X_test, ['Product', 'CustomerGender', 'Region'])"
   ]
  },
  {
   "cell_type": "code",
   "execution_count": 43,
   "id": "a0ce6b97",
   "metadata": {},
   "outputs": [
    {
     "data": {
      "text/plain": [
       "(1839, 28)"
      ]
     },
     "execution_count": 43,
     "metadata": {},
     "output_type": "execute_result"
    }
   ],
   "source": [
    "X_test.shape"
   ]
  },
  {
   "cell_type": "markdown",
   "id": "7ef50cb6",
   "metadata": {},
   "source": [
    "### Balance the training dataset "
   ]
  },
  {
   "cell_type": "markdown",
   "id": "b05e9e62",
   "metadata": {},
   "source": [
    "A balanced dataset is vital when building predictive models. Imbalanced dataset will result in a model predicting the majority class most of the time. The result of this being that it understands the trend of the majority class better than the minority class(es).\n",
    "\n",
    "There are different methods of balancing our dataset in other to get the best of our model. The most common methods include:\n",
    "1. Undersampling\n",
    "2. Oversampling\n",
    "3. Synthetic minority over-sampling technique (SMOTE)\n",
    "\n",
    "Undersampling simply reduces the observation in the majority class(es) balancing it with class with the least observation. Undersampling is not very efficient as information will be lost when obsevations are being dropped from the majority class(es). Oversampling does the opposite but with a little difference when considering SMOTE.\n",
    "\n",
    "For this task, we will be using SMOTE as it has proven to be the best method of generating samples to balance up the minority class(es).  SMOTE simply synthesizes elements of the minority class using the existing ones. It randomly chooses a point from the minority class and computes the k-nearest neighbors (default = 5) for this point. The synthetic points are added between the chosen point and its neighbors by choosing a factor between 0 and 1 to multiply the distance."
   ]
  },
  {
   "cell_type": "code",
   "execution_count": 44,
   "id": "8e637844",
   "metadata": {
    "scrolled": true
   },
   "outputs": [],
   "source": [
    "# import the SMOTE library from imblearn for the purpose of balancing the dataset\n",
    "from imblearn.over_sampling import SMOTE"
   ]
  },
  {
   "cell_type": "code",
   "execution_count": 45,
   "id": "9851decd",
   "metadata": {},
   "outputs": [],
   "source": [
    "smote = SMOTE(sampling_strategy='auto', random_state=42)\n",
    "X_smote, y_smote = smote.fit_resample(X_train, y_train)"
   ]
  },
  {
   "cell_type": "code",
   "execution_count": 46,
   "id": "66ac2fde",
   "metadata": {},
   "outputs": [
    {
     "data": {
      "text/plain": [
       "Counter({0: 5394, -1: 5394, 1: 5394})"
      ]
     },
     "execution_count": 46,
     "metadata": {},
     "output_type": "execute_result"
    }
   ],
   "source": [
    "# Check to see if the dataset is balanced \n",
    "from collections import Counter\n",
    "Counter(y_smote)"
   ]
  },
  {
   "cell_type": "markdown",
   "id": "9a0ca640",
   "metadata": {},
   "source": [
    "### Modelling"
   ]
  },
  {
   "cell_type": "markdown",
   "id": "23203af9",
   "metadata": {},
   "source": [
    "#### Scaling and Normalization\n",
    "\n",
    "Scaling and Normalization is an essential part of every ML process. The reason for this is to prevent bias in our model training process. Scikit learn algorithms tend to attach more importance to features with large numerical figures making the model bias towards features with large numerics. To prevent this and ensure our algorithm sees and train without bias, we scale the dataset. \n",
    "There are differnt methods of scaling our dataset, StandardScaler, MinMax scaler etc. "
   ]
  },
  {
   "cell_type": "code",
   "execution_count": 47,
   "id": "5b7db89d",
   "metadata": {},
   "outputs": [],
   "source": [
    "# create a function to perform feature scaling because some algorithms need this prior to fitting.\n",
    "from sklearn.preprocessing import StandardScaler"
   ]
  },
  {
   "cell_type": "code",
   "execution_count": 48,
   "id": "6a4b8bdf",
   "metadata": {},
   "outputs": [],
   "source": [
    "def feature_scaling(X, X_test=X_test):\n",
    "    std_scale = StandardScaler().fit(X)\n",
    "    X_std = std_scale.transform(X)\n",
    "    X_test_std = std_scale.transform(X_test)\n",
    "    return X_std, X_test_std"
   ]
  },
  {
   "cell_type": "code",
   "execution_count": 49,
   "id": "c259edad",
   "metadata": {},
   "outputs": [],
   "source": [
    "X_smote_std, X_test_std = feature_scaling(X_smote, X_test)"
   ]
  },
  {
   "cell_type": "markdown",
   "id": "75fcc372",
   "metadata": {},
   "source": [
    "#### Cross Validation for algorithm selection"
   ]
  },
  {
   "cell_type": "markdown",
   "id": "13210686",
   "metadata": {},
   "source": [
    "Cross-validation is a technique majorly used for preventing overfitting. However, it has been used over time in algorithm selection. Cross-validation works by splitting the entire dataset into K number of folds as specified. \n",
    "\n",
    "For every iteration given a K value, the dataset is splitted into training dataset and validation dataset based on the K value at that iteration. The advantage of using cross-validation during training and algortihm selection is that it uses the entire dataset in the process, there by validating on a specified split and train on the rest of the dataset. \n",
    "\n",
    "Running cross-validation of different algorithm returns a mean accuracy score which shows which algorithm fits well with the data.\n",
    "\n",
    "A further step can be to do hyper-parameter tuning on the algorithms with the best mean accuracy to better optimize them for modelling.\n",
    "\n",
    "**PS: Overfitting occurs when a trained algorithm (the model) fails to generalize on unseen data.**"
   ]
  },
  {
   "cell_type": "code",
   "execution_count": 50,
   "id": "3b16cab6",
   "metadata": {},
   "outputs": [],
   "source": [
    "from sklearn.neighbors import KNeighborsClassifier\n",
    "from sklearn.tree import DecisionTreeClassifier\n",
    "from sklearn.ensemble import RandomForestClassifier\n",
    "from sklearn.naive_bayes import GaussianNB\n",
    "from sklearn.linear_model import LogisticRegression \n",
    "\n",
    "from sklearn.model_selection import cross_val_score,RandomizedSearchCV"
   ]
  },
  {
   "cell_type": "code",
   "execution_count": 51,
   "id": "e0793872",
   "metadata": {},
   "outputs": [],
   "source": [
    "# A function that performs cross-validation on algorithms and return its mean accuracy\n",
    "def select_algo(algo,X,y):\n",
    "    cv_scores=cross_val_score(algo, X, y, cv=15, scoring='accuracy')\n",
    "    return cv_scores.mean()"
   ]
  },
  {
   "cell_type": "code",
   "execution_count": 52,
   "id": "fdf05bf6",
   "metadata": {},
   "outputs": [],
   "source": [
    "classifiers = []\n",
    "\n",
    "classifiers.append(('Logistic Regression', LogisticRegression()))\n",
    "classifiers.append(('Naive Bayes', GaussianNB()))\n",
    "classifiers.append(('KNN', KNeighborsClassifier()))\n",
    "classifiers.append(('Decision Tree', DecisionTreeClassifier()))\n",
    "classifiers.append(('Random Forest', RandomForestClassifier()))"
   ]
  },
  {
   "cell_type": "code",
   "execution_count": 53,
   "id": "f4b3b16b",
   "metadata": {},
   "outputs": [
    {
     "data": {
      "text/plain": [
       "[('Logistic Regression', LogisticRegression()),\n",
       " ('Naive Bayes', GaussianNB()),\n",
       " ('KNN', KNeighborsClassifier()),\n",
       " ('Decision Tree', DecisionTreeClassifier()),\n",
       " ('Random Forest', RandomForestClassifier())]"
      ]
     },
     "execution_count": 53,
     "metadata": {},
     "output_type": "execute_result"
    }
   ],
   "source": [
    "classifiers"
   ]
  },
  {
   "cell_type": "code",
   "execution_count": 54,
   "id": "134967ed",
   "metadata": {},
   "outputs": [],
   "source": [
    "best_algo = {}\n",
    "\n",
    "for classifier in classifiers:\n",
    "    cv_score = select_algo(classifier[1], X_smote_std, y_smote)\n",
    "    best_algo.setdefault('Classifier',[]).append(classifier[0])\n",
    "    best_algo.setdefault('cv_score',[]).append(cv_score)"
   ]
  },
  {
   "cell_type": "code",
   "execution_count": 55,
   "id": "4949f23e",
   "metadata": {},
   "outputs": [
    {
     "data": {
      "text/html": [
       "<div>\n",
       "<style scoped>\n",
       "    .dataframe tbody tr th:only-of-type {\n",
       "        vertical-align: middle;\n",
       "    }\n",
       "\n",
       "    .dataframe tbody tr th {\n",
       "        vertical-align: top;\n",
       "    }\n",
       "\n",
       "    .dataframe thead th {\n",
       "        text-align: right;\n",
       "    }\n",
       "</style>\n",
       "<table border=\"1\" class=\"dataframe\">\n",
       "  <thead>\n",
       "    <tr style=\"text-align: right;\">\n",
       "      <th></th>\n",
       "      <th>Classifier</th>\n",
       "      <th>cv_score</th>\n",
       "    </tr>\n",
       "  </thead>\n",
       "  <tbody>\n",
       "    <tr>\n",
       "      <th>0</th>\n",
       "      <td>Logistic Regression</td>\n",
       "      <td>0.924549</td>\n",
       "    </tr>\n",
       "    <tr>\n",
       "      <th>1</th>\n",
       "      <td>Naive Bayes</td>\n",
       "      <td>0.357805</td>\n",
       "    </tr>\n",
       "    <tr>\n",
       "      <th>2</th>\n",
       "      <td>KNN</td>\n",
       "      <td>0.921646</td>\n",
       "    </tr>\n",
       "    <tr>\n",
       "      <th>3</th>\n",
       "      <td>Decision Tree</td>\n",
       "      <td>0.952233</td>\n",
       "    </tr>\n",
       "    <tr>\n",
       "      <th>4</th>\n",
       "      <td>Random Forest</td>\n",
       "      <td>0.961564</td>\n",
       "    </tr>\n",
       "  </tbody>\n",
       "</table>\n",
       "</div>"
      ],
      "text/plain": [
       "            Classifier  cv_score\n",
       "0  Logistic Regression  0.924549\n",
       "1          Naive Bayes  0.357805\n",
       "2                  KNN  0.921646\n",
       "3        Decision Tree  0.952233\n",
       "4        Random Forest  0.961564"
      ]
     },
     "execution_count": 55,
     "metadata": {},
     "output_type": "execute_result"
    }
   ],
   "source": [
    "pd.DataFrame(best_algo)"
   ]
  },
  {
   "cell_type": "markdown",
   "id": "74fe7d4c",
   "metadata": {},
   "source": [
    "Now that it is established that for our task Random Forest is the best algorithm to work with. We will perform hyper-parameter tuning to get the best out of it."
   ]
  },
  {
   "cell_type": "markdown",
   "id": "55305fd8",
   "metadata": {},
   "source": [
    "### Hyper Parameter Tuning "
   ]
  },
  {
   "cell_type": "markdown",
   "id": "f0a14128",
   "metadata": {},
   "source": [
    "The Major purpose of tuning parameters of an algorithm is to optimally get the best performance of the algorithm. We select few parameters to tune leaving the rest as default and then run iterations which is the number of times the training will occur randomly picking the parameters against themselves.\n",
    "\n",
    "Tuning parameter can be done using GridSearch or RandomizedSearch. RandomizedSearch is used here due to the fact that GridSearch can be computationally expensive. \n",
    "\n",
    "While they give approximately the same result. GridSearch does more but takes time to fit the data."
   ]
  },
  {
   "cell_type": "code",
   "execution_count": 57,
   "id": "d1fb32d4",
   "metadata": {
    "scrolled": false
   },
   "outputs": [
    {
     "name": "stdout",
     "output_type": "stream",
     "text": [
      "Fitting 2 folds for each of 10 candidates, totalling 20 fits\n",
      "Fitting 3 folds for each of 10 candidates, totalling 30 fits\n",
      "Fitting 4 folds for each of 10 candidates, totalling 40 fits\n",
      "Fitting 5 folds for each of 10 candidates, totalling 50 fits\n",
      "Fitting 6 folds for each of 10 candidates, totalling 60 fits\n",
      "Fitting 7 folds for each of 10 candidates, totalling 70 fits\n",
      "Fitting 8 folds for each of 10 candidates, totalling 80 fits\n",
      "Fitting 9 folds for each of 10 candidates, totalling 90 fits\n",
      "Fitting 10 folds for each of 10 candidates, totalling 100 fits\n",
      "Fitting 11 folds for each of 10 candidates, totalling 110 fits\n",
      "Fitting 12 folds for each of 10 candidates, totalling 120 fits\n",
      "Fitting 13 folds for each of 10 candidates, totalling 130 fits\n",
      "Fitting 14 folds for each of 10 candidates, totalling 140 fits\n",
      "Fitting 15 folds for each of 10 candidates, totalling 150 fits\n"
     ]
    }
   ],
   "source": [
    "rfc = RandomForestClassifier()\n",
    "\n",
    "param_dist = dict(\n",
    "    n_estimators = [100,200,300,400,500], \n",
    "    criterion=[\"gini\", \"entropy\"],\n",
    "    random_state=[5,10,15,20,25],\n",
    "    class_weight = [\"balanced\", \"balanced_subsample\"],\n",
    ")\n",
    "k_range = range(2, 16)\n",
    "\n",
    "k_score = {}\n",
    "\n",
    "for k in k_range:\n",
    "    rfc_random = RandomizedSearchCV(rfc, param_dist,cv=k, scoring='accuracy',n_iter=10, n_jobs=-1,verbose=1)\n",
    "    rfc_random.fit(X_smote_std, y_smote)\n",
    "\n",
    "    k_score.setdefault('Best Accuracy',[]).append(rfc_random.best_score_)\n",
    "    k_score.setdefault('Best tuned parameter',[]).append(rfc_random.best_params_)"
   ]
  },
  {
   "cell_type": "code",
   "execution_count": 58,
   "id": "3839e72a",
   "metadata": {},
   "outputs": [
    {
     "data": {
      "text/html": [
       "<div>\n",
       "<style scoped>\n",
       "    .dataframe tbody tr th:only-of-type {\n",
       "        vertical-align: middle;\n",
       "    }\n",
       "\n",
       "    .dataframe tbody tr th {\n",
       "        vertical-align: top;\n",
       "    }\n",
       "\n",
       "    .dataframe thead th {\n",
       "        text-align: right;\n",
       "    }\n",
       "</style>\n",
       "<table border=\"1\" class=\"dataframe\">\n",
       "  <thead>\n",
       "    <tr style=\"text-align: right;\">\n",
       "      <th></th>\n",
       "      <th>Best Accuracy</th>\n",
       "      <th>Best tuned parameter</th>\n",
       "    </tr>\n",
       "  </thead>\n",
       "  <tbody>\n",
       "    <tr>\n",
       "      <th>0</th>\n",
       "      <td>0.952354</td>\n",
       "      <td>{'random_state': 15, 'n_estimators': 500, 'cri...</td>\n",
       "    </tr>\n",
       "    <tr>\n",
       "      <th>1</th>\n",
       "      <td>0.956309</td>\n",
       "      <td>{'random_state': 25, 'n_estimators': 400, 'cri...</td>\n",
       "    </tr>\n",
       "    <tr>\n",
       "      <th>2</th>\n",
       "      <td>0.958783</td>\n",
       "      <td>{'random_state': 10, 'n_estimators': 400, 'cri...</td>\n",
       "    </tr>\n",
       "    <tr>\n",
       "      <th>3</th>\n",
       "      <td>0.958351</td>\n",
       "      <td>{'random_state': 20, 'n_estimators': 500, 'cri...</td>\n",
       "    </tr>\n",
       "    <tr>\n",
       "      <th>4</th>\n",
       "      <td>0.959770</td>\n",
       "      <td>{'random_state': 15, 'n_estimators': 100, 'cri...</td>\n",
       "    </tr>\n",
       "    <tr>\n",
       "      <th>5</th>\n",
       "      <td>0.959463</td>\n",
       "      <td>{'random_state': 25, 'n_estimators': 100, 'cri...</td>\n",
       "    </tr>\n",
       "    <tr>\n",
       "      <th>6</th>\n",
       "      <td>0.960019</td>\n",
       "      <td>{'random_state': 15, 'n_estimators': 100, 'cri...</td>\n",
       "    </tr>\n",
       "    <tr>\n",
       "      <th>7</th>\n",
       "      <td>0.961253</td>\n",
       "      <td>{'random_state': 10, 'n_estimators': 300, 'cri...</td>\n",
       "    </tr>\n",
       "    <tr>\n",
       "      <th>8</th>\n",
       "      <td>0.961877</td>\n",
       "      <td>{'random_state': 15, 'n_estimators': 400, 'cri...</td>\n",
       "    </tr>\n",
       "    <tr>\n",
       "      <th>9</th>\n",
       "      <td>0.962000</td>\n",
       "      <td>{'random_state': 15, 'n_estimators': 100, 'cri...</td>\n",
       "    </tr>\n",
       "    <tr>\n",
       "      <th>10</th>\n",
       "      <td>0.962309</td>\n",
       "      <td>{'random_state': 20, 'n_estimators': 400, 'cri...</td>\n",
       "    </tr>\n",
       "    <tr>\n",
       "      <th>11</th>\n",
       "      <td>0.962244</td>\n",
       "      <td>{'random_state': 5, 'n_estimators': 200, 'crit...</td>\n",
       "    </tr>\n",
       "    <tr>\n",
       "      <th>12</th>\n",
       "      <td>0.962985</td>\n",
       "      <td>{'random_state': 5, 'n_estimators': 200, 'crit...</td>\n",
       "    </tr>\n",
       "    <tr>\n",
       "      <th>13</th>\n",
       "      <td>0.962120</td>\n",
       "      <td>{'random_state': 10, 'n_estimators': 300, 'cri...</td>\n",
       "    </tr>\n",
       "  </tbody>\n",
       "</table>\n",
       "</div>"
      ],
      "text/plain": [
       "    Best Accuracy                               Best tuned parameter\n",
       "0        0.952354  {'random_state': 15, 'n_estimators': 500, 'cri...\n",
       "1        0.956309  {'random_state': 25, 'n_estimators': 400, 'cri...\n",
       "2        0.958783  {'random_state': 10, 'n_estimators': 400, 'cri...\n",
       "3        0.958351  {'random_state': 20, 'n_estimators': 500, 'cri...\n",
       "4        0.959770  {'random_state': 15, 'n_estimators': 100, 'cri...\n",
       "5        0.959463  {'random_state': 25, 'n_estimators': 100, 'cri...\n",
       "6        0.960019  {'random_state': 15, 'n_estimators': 100, 'cri...\n",
       "7        0.961253  {'random_state': 10, 'n_estimators': 300, 'cri...\n",
       "8        0.961877  {'random_state': 15, 'n_estimators': 400, 'cri...\n",
       "9        0.962000  {'random_state': 15, 'n_estimators': 100, 'cri...\n",
       "10       0.962309  {'random_state': 20, 'n_estimators': 400, 'cri...\n",
       "11       0.962244  {'random_state': 5, 'n_estimators': 200, 'crit...\n",
       "12       0.962985  {'random_state': 5, 'n_estimators': 200, 'crit...\n",
       "13       0.962120  {'random_state': 10, 'n_estimators': 300, 'cri..."
      ]
     },
     "execution_count": 58,
     "metadata": {},
     "output_type": "execute_result"
    }
   ],
   "source": [
    "pd.DataFrame(k_score)"
   ]
  },
  {
   "cell_type": "code",
   "execution_count": 60,
   "id": "5e6cfe32",
   "metadata": {},
   "outputs": [
    {
     "data": {
      "text/html": [
       "<div>\n",
       "<style scoped>\n",
       "    .dataframe tbody tr th:only-of-type {\n",
       "        vertical-align: middle;\n",
       "    }\n",
       "\n",
       "    .dataframe tbody tr th {\n",
       "        vertical-align: top;\n",
       "    }\n",
       "\n",
       "    .dataframe thead th {\n",
       "        text-align: right;\n",
       "    }\n",
       "</style>\n",
       "<table border=\"1\" class=\"dataframe\">\n",
       "  <thead>\n",
       "    <tr style=\"text-align: right;\">\n",
       "      <th></th>\n",
       "      <th>Best Accuracy</th>\n",
       "      <th>Best tuned parameter</th>\n",
       "    </tr>\n",
       "  </thead>\n",
       "  <tbody>\n",
       "    <tr>\n",
       "      <th>12</th>\n",
       "      <td>0.962985</td>\n",
       "      <td>{'random_state': 5, 'n_estimators': 200, 'crit...</td>\n",
       "    </tr>\n",
       "  </tbody>\n",
       "</table>\n",
       "</div>"
      ],
      "text/plain": [
       "    Best Accuracy                               Best tuned parameter\n",
       "12       0.962985  {'random_state': 5, 'n_estimators': 200, 'crit..."
      ]
     },
     "execution_count": 60,
     "metadata": {},
     "output_type": "execute_result"
    }
   ],
   "source": [
    "# The best accuracy obtained after parameter tuning\n",
    "pd.DataFrame(k_score).iloc[12:13,:]"
   ]
  },
  {
   "cell_type": "code",
   "execution_count": 61,
   "id": "8ff5c2f8",
   "metadata": {
    "scrolled": true
   },
   "outputs": [
    {
     "data": {
      "text/plain": [
       "12    {'random_state': 5, 'n_estimators': 200, 'crit...\n",
       "Name: Best tuned parameter, dtype: object"
      ]
     },
     "execution_count": 61,
     "metadata": {},
     "output_type": "execute_result"
    }
   ],
   "source": [
    "pd.DataFrame(k_score).iloc[12:13,:]['Best tuned parameter']"
   ]
  },
  {
   "cell_type": "code",
   "execution_count": 69,
   "id": "f4c10cdc",
   "metadata": {},
   "outputs": [
    {
     "data": {
      "text/plain": [
       "{'random_state': 5,\n",
       " 'n_estimators': 200,\n",
       " 'criterion': 'entropy',\n",
       " 'class_weight': 'balanced'}"
      ]
     },
     "execution_count": 69,
     "metadata": {},
     "output_type": "execute_result"
    }
   ],
   "source": [
    "# Parameters that return the best accuracy from our tuning process\n",
    "{'random_state': 5,\n",
    "   'n_estimators': 200,\n",
    "   'criterion': 'entropy',\n",
    "   'class_weight': 'balanced'}"
   ]
  },
  {
   "cell_type": "code",
   "execution_count": 70,
   "id": "b11d5114",
   "metadata": {},
   "outputs": [
    {
     "data": {
      "text/plain": [
       "RandomForestClassifier(class_weight='balanced', criterion='entropy',\n",
       "                       n_estimators=200, random_state=5)"
      ]
     },
     "execution_count": 70,
     "metadata": {},
     "output_type": "execute_result"
    }
   ],
   "source": [
    "# Knowing what parameters gives us the best performance, \n",
    "# we train a random forest classifier with them, setting the rest of the parameters as default\n",
    "\n",
    "loan_status_rfc = RandomForestClassifier(n_estimators=200,random_state=5,criterion='entropy',class_weight='balanced')\n",
    "loan_status_rfc.fit(X_smote_std, y_smote)"
   ]
  },
  {
   "cell_type": "markdown",
   "id": "362beddb",
   "metadata": {},
   "source": [
    "### Predictions and Evaluation"
   ]
  },
  {
   "cell_type": "code",
   "execution_count": 71,
   "id": "21e91300",
   "metadata": {},
   "outputs": [],
   "source": [
    "y_pred = loan_status_rfc.predict(X_test_std)"
   ]
  },
  {
   "cell_type": "code",
   "execution_count": 72,
   "id": "76658224",
   "metadata": {},
   "outputs": [],
   "source": [
    "# EValuation \n",
    "\n",
    "from sklearn.metrics import accuracy_score,confusion_matrix,classification_report"
   ]
  },
  {
   "cell_type": "code",
   "execution_count": 73,
   "id": "33047a75",
   "metadata": {},
   "outputs": [
    {
     "name": "stdout",
     "output_type": "stream",
     "text": [
      "0.9238716693855357\n"
     ]
    }
   ],
   "source": [
    "print(accuracy_score(y_test, y_pred))"
   ]
  },
  {
   "cell_type": "code",
   "execution_count": 74,
   "id": "b45c9d4c",
   "metadata": {},
   "outputs": [
    {
     "name": "stdout",
     "output_type": "stream",
     "text": [
      "[[ 115   55    0]\n",
      " [  76 1269    3]\n",
      " [   0    6  315]]\n"
     ]
    }
   ],
   "source": [
    "print(confusion_matrix(y_test,y_pred))"
   ]
  },
  {
   "cell_type": "code",
   "execution_count": 75,
   "id": "a55517d3",
   "metadata": {},
   "outputs": [
    {
     "name": "stdout",
     "output_type": "stream",
     "text": [
      "              precision    recall  f1-score   support\n",
      "\n",
      "          -1       0.60      0.68      0.64       170\n",
      "           0       0.95      0.94      0.95      1348\n",
      "           1       0.99      0.98      0.99       321\n",
      "\n",
      "    accuracy                           0.92      1839\n",
      "   macro avg       0.85      0.87      0.86      1839\n",
      "weighted avg       0.93      0.92      0.93      1839\n",
      "\n"
     ]
    }
   ],
   "source": [
    "print(classification_report(y_test,y_pred))"
   ]
  },
  {
   "cell_type": "code",
   "execution_count": null,
   "id": "82d3a2c3",
   "metadata": {},
   "outputs": [],
   "source": []
  },
  {
   "cell_type": "code",
   "execution_count": 85,
   "id": "f8dc157d",
   "metadata": {
    "scrolled": true
   },
   "outputs": [
    {
     "data": {
      "text/html": [
       "<div>\n",
       "<style scoped>\n",
       "    .dataframe tbody tr th:only-of-type {\n",
       "        vertical-align: middle;\n",
       "    }\n",
       "\n",
       "    .dataframe tbody tr th {\n",
       "        vertical-align: top;\n",
       "    }\n",
       "\n",
       "    .dataframe thead th {\n",
       "        text-align: right;\n",
       "    }\n",
       "</style>\n",
       "<table border=\"1\" class=\"dataframe\">\n",
       "  <thead>\n",
       "    <tr style=\"text-align: right;\">\n",
       "      <th></th>\n",
       "      <th>y_actual</th>\n",
       "      <th>y_pred</th>\n",
       "    </tr>\n",
       "  </thead>\n",
       "  <tbody>\n",
       "    <tr>\n",
       "      <th>0</th>\n",
       "      <td>0</td>\n",
       "      <td>0</td>\n",
       "    </tr>\n",
       "    <tr>\n",
       "      <th>1</th>\n",
       "      <td>0</td>\n",
       "      <td>0</td>\n",
       "    </tr>\n",
       "    <tr>\n",
       "      <th>2</th>\n",
       "      <td>0</td>\n",
       "      <td>0</td>\n",
       "    </tr>\n",
       "    <tr>\n",
       "      <th>3</th>\n",
       "      <td>-1</td>\n",
       "      <td>0</td>\n",
       "    </tr>\n",
       "    <tr>\n",
       "      <th>4</th>\n",
       "      <td>0</td>\n",
       "      <td>-1</td>\n",
       "    </tr>\n",
       "  </tbody>\n",
       "</table>\n",
       "</div>"
      ],
      "text/plain": [
       "   y_actual  y_pred\n",
       "0         0       0\n",
       "1         0       0\n",
       "2         0       0\n",
       "3        -1       0\n",
       "4         0      -1"
      ]
     },
     "execution_count": 85,
     "metadata": {},
     "output_type": "execute_result"
    }
   ],
   "source": [
    "# A quick preview of actual and predicted values of the model\n",
    "pd.DataFrame({'y_actual':y_test.values, 'y_pred':y_pred}).head()"
   ]
  },
  {
   "cell_type": "code",
   "execution_count": 86,
   "id": "4c23807a",
   "metadata": {},
   "outputs": [],
   "source": [
    "# Recall that \n",
    "loan_status = {'Blocked': -1, 'Active': 0, 'Finished Payment': 1}"
   ]
  },
  {
   "cell_type": "markdown",
   "id": "717a5e56",
   "metadata": {},
   "source": [
    "### Conclusion"
   ]
  },
  {
   "cell_type": "markdown",
   "id": "b49c3d3b",
   "metadata": {},
   "source": [
    "From our classification report which is the best metrics to use for a classification task as this, it is seen that the model performs well when predicting samples with finished payment with f1-score of 0.99 compared to when it is predicting a blocked sample instance. The f1-score in this case is 0.64. \n",
    "\n",
    "F1-score is the preffered metric used here as it combines precision and recall in its computation and as such provides the best estimate when prediciting class or category of loan status\n",
    "\n",
    "Given this observations, it can be said that most samples exposed to the algorithm are Active and Finished Payment. For a new sample to fall under the blocked category, the trend and pattern needs to be very clear for a correct prediction to be made, otherwise it would be classified as either Active or Finished Payment."
   ]
  },
  {
   "cell_type": "code",
   "execution_count": null,
   "id": "07f258b7",
   "metadata": {},
   "outputs": [],
   "source": []
  }
 ],
 "metadata": {
  "kernelspec": {
   "display_name": "Python 3",
   "language": "python",
   "name": "python3"
  },
  "language_info": {
   "codemirror_mode": {
    "name": "ipython",
    "version": 3
   },
   "file_extension": ".py",
   "mimetype": "text/x-python",
   "name": "python",
   "nbconvert_exporter": "python",
   "pygments_lexer": "ipython3",
   "version": "3.8.8"
  }
 },
 "nbformat": 4,
 "nbformat_minor": 5
}
